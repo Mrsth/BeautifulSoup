{
  "nbformat": 4,
  "nbformat_minor": 0,
  "metadata": {
    "colab": {
      "name": "Practice.ipynb",
      "provenance": [],
      "collapsed_sections": [],
      "authorship_tag": "ABX9TyPoQVsp4FAs0FgDghADfd1J",
      "include_colab_link": true
    },
    "kernelspec": {
      "name": "python3",
      "display_name": "Python 3"
    }
  },
  "cells": [
    {
      "cell_type": "markdown",
      "metadata": {
        "id": "view-in-github",
        "colab_type": "text"
      },
      "source": [
        "<a href=\"https://colab.research.google.com/github/Mrsth/BeautifulSoup/blob/main/Social_Media_link_scraping.ipynb\" target=\"_parent\"><img src=\"https://colab.research.google.com/assets/colab-badge.svg\" alt=\"Open In Colab\"/></a>"
      ]
    },
    {
      "cell_type": "code",
      "metadata": {
        "id": "FhXTODORFffC"
      },
      "source": [
        "from bs4 import BeautifulSoup as bs\n",
        "import requests\n",
        "import pandas as pd"
      ],
      "execution_count": 181,
      "outputs": []
    },
    {
      "cell_type": "markdown",
      "metadata": {
        "id": "MPvYpQLrfE1D"
      },
      "source": [
        "# **1) Kharpan social media links**"
      ]
    },
    {
      "cell_type": "code",
      "metadata": {
        "id": "akFCwdYuFqYq"
      },
      "source": [
        "my_url = \"https://kharpann.com/\""
      ],
      "execution_count": 182,
      "outputs": []
    },
    {
      "cell_type": "code",
      "metadata": {
        "id": "r8y__e0-IRe3"
      },
      "source": [
        "load_page = requests.get(my_url)\n",
        "soup = bs(load_page.content)"
      ],
      "execution_count": 183,
      "outputs": []
    },
    {
      "cell_type": "code",
      "metadata": {
        "id": "Je7fFbSIcklA",
        "outputId": "362f0111-c8fa-4ae3-e739-1e086caad411",
        "colab": {
          "base_uri": "https://localhost:8080/",
          "height": 83
        }
      },
      "source": [
        "links = soup.select(\"ul.redux-social-media-list li a\")\n",
        "links"
      ],
      "execution_count": 184,
      "outputs": [
        {
          "output_type": "execute_result",
          "data": {
            "text/plain": [
              "[<a href=\"https://www.twitter.com/kharpann\" target=\"_blank\"><i class=\"fab fa-twitter\" style=\"color:rgb(29, 161, 242);background-color:transparent;\" title=\"\"></i></a>,\n",
              " <a href=\"https://www.instagram.com/kharpann\" target=\"_blank\"><i class=\"fab fa-instagram\" style=\"color:rgb(224, 100, 87);background-color:transparent;\" title=\"\"></i></a>,\n",
              " <a href=\"https://www.linkedin.com/company/kharpann\" target=\"_blank\"><i class=\"fab fa-linkedin\" style=\"color:rgb(0, 119, 181);background-color:transparent;\" title=\"\"></i></a>,\n",
              " <a href=\"https://www.facebook.com/kharpannnepal/\" target=\"_blank\"><i class=\"fab fa-facebook-f\" style=\"color:rgb(66, 103, 178);background-color:transparent;\" title=\"\"></i></a>]"
            ]
          },
          "metadata": {
            "tags": []
          },
          "execution_count": 184
        }
      ]
    },
    {
      "cell_type": "code",
      "metadata": {
        "id": "CdzE_t3Gdsl9",
        "outputId": "f28b7028-d329-48b4-8e7d-09ecdbc2b06b",
        "colab": {
          "base_uri": "https://localhost:8080/",
          "height": 83
        }
      },
      "source": [
        "links = [link[\"href\"] for link in links]\n",
        "links"
      ],
      "execution_count": 185,
      "outputs": [
        {
          "output_type": "execute_result",
          "data": {
            "text/plain": [
              "['https://www.twitter.com/kharpann',\n",
              " 'https://www.instagram.com/kharpann',\n",
              " 'https://www.linkedin.com/company/kharpann',\n",
              " 'https://www.facebook.com/kharpannnepal/']"
            ]
          },
          "metadata": {
            "tags": []
          },
          "execution_count": 185
        }
      ]
    },
    {
      "cell_type": "code",
      "metadata": {
        "id": "fatfxnsAZeSf"
      },
      "source": [
        "link_names = [\"Twitter\", \"Instagram\", \"Linkedin\", \"Facebook\"]"
      ],
      "execution_count": 186,
      "outputs": []
    },
    {
      "cell_type": "code",
      "metadata": {
        "id": "AI2MN9I6ZpZI",
        "outputId": "930db4ad-70c2-42cb-b52e-05883f3bef40",
        "colab": {
          "base_uri": "https://localhost:8080/",
          "height": 83
        }
      },
      "source": [
        "for i in range(0,4):\n",
        "  print(\"{} : {}\".format(link_names[i], links[i]))"
      ],
      "execution_count": 187,
      "outputs": [
        {
          "output_type": "stream",
          "text": [
            "Twitter : https://www.twitter.com/kharpann\n",
            "Instagram : https://www.instagram.com/kharpann\n",
            "Linkedin : https://www.linkedin.com/company/kharpann\n",
            "Facebook : https://www.facebook.com/kharpannnepal/\n"
          ],
          "name": "stdout"
        }
      ]
    },
    {
      "cell_type": "markdown",
      "metadata": {
        "id": "7RfN840EifY9"
      },
      "source": [
        "# **2) Deerwalk social media links**"
      ]
    },
    {
      "cell_type": "code",
      "metadata": {
        "id": "M23KazLZexvL"
      },
      "source": [
        "dwit_url = \"https://deerwalkcompware.com/index\""
      ],
      "execution_count": 188,
      "outputs": []
    },
    {
      "cell_type": "code",
      "metadata": {
        "id": "FyIV5aihi793"
      },
      "source": [
        "dwit_page = requests.get(dwit_url)\n",
        "dwit_soup = bs(dwit_page.content)"
      ],
      "execution_count": 189,
      "outputs": []
    },
    {
      "cell_type": "code",
      "metadata": {
        "id": "lMJ2dMk1jRpn",
        "outputId": "9cb3a8b9-aafd-47f1-ccd5-3af9767c23e2",
        "colab": {
          "base_uri": "https://localhost:8080/",
          "height": 167
        }
      },
      "source": [
        "dwit_social_media_links = all_a_tags[-3:]\n",
        "dwit_social_media_links"
      ],
      "execution_count": 190,
      "outputs": [
        {
          "output_type": "execute_result",
          "data": {
            "text/plain": [
              "[<a href=\"https://www.facebook.com/deerwalktrainingcenter/\" target=\"_blank\">\n",
              " <i class=\"fa fa-facebook link-text fa-3x\"></i>\n",
              " </a>,\n",
              " <a href=\"https://www.linkedin.com/company/deerwalktrainingcenter\" target=\"_blank\">\n",
              " <i class=\"fab fa-linkedin-in fa-3x\"></i>\n",
              " </a>,\n",
              " <a href=\"https://www.instagram.com/deerwalktrainingcenter/\" target=\"_blank\">\n",
              " <i class=\"fab fa-instagram fa-3x\"></i>\n",
              " </a>]"
            ]
          },
          "metadata": {
            "tags": []
          },
          "execution_count": 190
        }
      ]
    },
    {
      "cell_type": "code",
      "metadata": {
        "id": "K91U1goUj3hC",
        "outputId": "f9a9aca9-f8b7-430f-d279-b1f19b67a3e2",
        "colab": {
          "base_uri": "https://localhost:8080/",
          "height": 67
        }
      },
      "source": [
        "dwit_social_media_links = [link[\"href\"] for link in dwit_social_media_links]\n",
        "dwit_social_media_links"
      ],
      "execution_count": 191,
      "outputs": [
        {
          "output_type": "execute_result",
          "data": {
            "text/plain": [
              "['https://www.facebook.com/deerwalktrainingcenter/',\n",
              " 'https://www.linkedin.com/company/deerwalktrainingcenter',\n",
              " 'https://www.instagram.com/deerwalktrainingcenter/']"
            ]
          },
          "metadata": {
            "tags": []
          },
          "execution_count": 191
        }
      ]
    },
    {
      "cell_type": "code",
      "metadata": {
        "id": "veIFbHM-Y29G"
      },
      "source": [
        "dwit_social_media_names = [\"Facebook\", \"Linkedin\", \"Instagram\"]"
      ],
      "execution_count": 192,
      "outputs": []
    },
    {
      "cell_type": "code",
      "metadata": {
        "id": "vKbuiP82Y_Xs",
        "outputId": "65a6a3f2-0733-444c-8229-0b7de48dd43d",
        "colab": {
          "base_uri": "https://localhost:8080/",
          "height": 67
        }
      },
      "source": [
        "for i in range(0,3):\n",
        "  print(\"{} : {}\".format(dwit_social_media_names[i], dwit_social_media_links[i]))"
      ],
      "execution_count": 193,
      "outputs": [
        {
          "output_type": "stream",
          "text": [
            "Facebook : https://www.facebook.com/deerwalktrainingcenter/\n",
            "Linkedin : https://www.linkedin.com/company/deerwalktrainingcenter\n",
            "Instagram : https://www.instagram.com/deerwalktrainingcenter/\n"
          ],
          "name": "stdout"
        }
      ]
    },
    {
      "cell_type": "markdown",
      "metadata": {
        "id": "px2ffjLeBIaR"
      },
      "source": [
        "# **3) Leap frog social media links**"
      ]
    },
    {
      "cell_type": "code",
      "metadata": {
        "id": "64ZfA8AZlySR"
      },
      "source": [
        "leapfrog_link = \"https://www.lftechnology.com/\"\n",
        "\n",
        "leapfrog_page = requests.get(leapfrog_link)\n",
        "leapfrog_soup = bs(leapfrog_page.content)"
      ],
      "execution_count": 194,
      "outputs": []
    },
    {
      "cell_type": "code",
      "metadata": {
        "id": "KoRANWqyBdCp",
        "outputId": "35c4ed30-f018-41b7-bb48-0f4f0c39d3f1",
        "colab": {
          "base_uri": "https://localhost:8080/",
          "height": 117
        }
      },
      "source": [
        "leapfrog_social_media_links = leapfrog_soup.select(\"ul#menu-footer_menu_social_2020 li a\")\n",
        "leapfrog_social_media_links"
      ],
      "execution_count": 195,
      "outputs": [
        {
          "output_type": "execute_result",
          "data": {
            "text/plain": [
              "[<a href=\"https://www.lftechnology.com/blog/\">Blog</a>,\n",
              " <a href=\"https://www.lftechnology.com/podcast/\">Podcast</a>,\n",
              " <a href=\"https://www.facebook.com/lftechnology/\">Facebook</a>,\n",
              " <a href=\"https://twitter.com/lftechnology\">Twitter</a>,\n",
              " <a href=\"https://instagram.com/lftechnology\">Instagram</a>,\n",
              " <a href=\"https://www.linkedin.com/company/lftechnology\">LinkedIn</a>]"
            ]
          },
          "metadata": {
            "tags": []
          },
          "execution_count": 195
        }
      ]
    },
    {
      "cell_type": "code",
      "metadata": {
        "id": "E080uGvBB_wk",
        "outputId": "9c7a4f30-ef2c-4f15-815d-46d117695c0b",
        "colab": {
          "base_uri": "https://localhost:8080/",
          "height": 83
        }
      },
      "source": [
        "leapfrog_social_media_links = [link[\"href\"] for link in leapfrog_social_media_links[2:]]\n",
        "leapfrog_social_media_links"
      ],
      "execution_count": 196,
      "outputs": [
        {
          "output_type": "execute_result",
          "data": {
            "text/plain": [
              "['https://www.facebook.com/lftechnology/',\n",
              " 'https://twitter.com/lftechnology',\n",
              " 'https://instagram.com/lftechnology',\n",
              " 'https://www.linkedin.com/company/lftechnology']"
            ]
          },
          "metadata": {
            "tags": []
          },
          "execution_count": 196
        }
      ]
    },
    {
      "cell_type": "code",
      "metadata": {
        "id": "E4WRKjHTV6Fb",
        "outputId": "8404d501-6281-4d8b-fb4e-cbc50630b020",
        "colab": {
          "base_uri": "https://localhost:8080/",
          "height": 33
        }
      },
      "source": [
        "leapfrog_social_media_names = [name.string for name in leapfrog_soup.select(\"ul#menu-footer_menu_social_2020 li a\")[2:]]\n",
        "leapfrog_social_media_names"
      ],
      "execution_count": 197,
      "outputs": [
        {
          "output_type": "execute_result",
          "data": {
            "text/plain": [
              "['Facebook', 'Twitter', 'Instagram', 'LinkedIn']"
            ]
          },
          "metadata": {
            "tags": []
          },
          "execution_count": 197
        }
      ]
    },
    {
      "cell_type": "code",
      "metadata": {
        "id": "eXyrwC4fWvOy",
        "outputId": "e3c646ce-e387-4b3d-ad24-e60682299b6e",
        "colab": {
          "base_uri": "https://localhost:8080/",
          "height": 83
        }
      },
      "source": [
        "for i in range(0,4):\n",
        "  print(\"{} : {}\".format(leapfrog_social_media_names[i], leapfrog_social_media_links[i]))"
      ],
      "execution_count": 198,
      "outputs": [
        {
          "output_type": "stream",
          "text": [
            "Facebook : https://www.facebook.com/lftechnology/\n",
            "Twitter : https://twitter.com/lftechnology\n",
            "Instagram : https://instagram.com/lftechnology\n",
            "LinkedIn : https://www.linkedin.com/company/lftechnology\n"
          ],
          "name": "stdout"
        }
      ]
    },
    {
      "cell_type": "markdown",
      "metadata": {
        "id": "FSUjKU8bbo_g"
      },
      "source": [
        "# **4) Fonepay social media links**"
      ]
    },
    {
      "cell_type": "code",
      "metadata": {
        "id": "Ilx54aMXYQ_h"
      },
      "source": [
        "fonepay_url = \"https://www.fonepay.com/\""
      ],
      "execution_count": 199,
      "outputs": []
    },
    {
      "cell_type": "code",
      "metadata": {
        "id": "IsujeCsRb2Z0"
      },
      "source": [
        "fonepay_page = requests.get(fonepay_url)\n",
        "fonepay_soup = bs(fonepay_page.content) "
      ],
      "execution_count": 200,
      "outputs": []
    },
    {
      "cell_type": "code",
      "metadata": {
        "id": "4WZOnKi9cnBI",
        "outputId": "2c671d44-f068-4de5-acc7-ed20348345c6",
        "colab": {
          "base_uri": "https://localhost:8080/",
          "height": 100
        }
      },
      "source": [
        "fonepay_soup.select(\"div#footer-icon-wrap ul li a\")"
      ],
      "execution_count": 201,
      "outputs": [
        {
          "output_type": "execute_result",
          "data": {
            "text/plain": [
              "[<a href=\"https://www.facebook.com/fonepay/\" target=\"blank\"><i class=\"fi flaticon-facebook-logo-button\"></i></a>,\n",
              " <a href=\"https://www.instagram.com/fonepaynepal/\" target=\"blank\"><i class=\"fi flaticon-instagram-logo\"></i></a>,\n",
              " <a href=\"https://www.youtube.com/channel/UCgVAQRwA0UKFUhXPK1xd2bA\" target=\"blank\"><i class=\"fa fa-youtube\"></i></a>,\n",
              " <a href=\"https://twitter.com/fonepay?lang=en\" target=\"blank\"><i class=\"fi flaticon-twitter-logo-button\"></i></a>,\n",
              " <a href=\"https://www.linkedin.com/company/fonepaynepal/\" target=\"blank\"><i class=\"fa fa-linkedin\"></i></a>]"
            ]
          },
          "metadata": {
            "tags": []
          },
          "execution_count": 201
        }
      ]
    },
    {
      "cell_type": "code",
      "metadata": {
        "id": "T8xqhElGoo2V",
        "outputId": "7fcd9ca6-96fe-4489-8233-cfa388b678eb",
        "colab": {
          "base_uri": "https://localhost:8080/",
          "height": 100
        }
      },
      "source": [
        "fonepay_social_media_links = [link[\"href\"] for link in fonepay_soup.select(\"div#footer-icon-wrap ul li a\")]\n",
        "fonepay_social_media_links"
      ],
      "execution_count": 202,
      "outputs": [
        {
          "output_type": "execute_result",
          "data": {
            "text/plain": [
              "['https://www.facebook.com/fonepay/',\n",
              " 'https://www.instagram.com/fonepaynepal/',\n",
              " 'https://www.youtube.com/channel/UCgVAQRwA0UKFUhXPK1xd2bA',\n",
              " 'https://twitter.com/fonepay?lang=en',\n",
              " 'https://www.linkedin.com/company/fonepaynepal/']"
            ]
          },
          "metadata": {
            "tags": []
          },
          "execution_count": 202
        }
      ]
    },
    {
      "cell_type": "code",
      "metadata": {
        "id": "zY4ueC54pEU5",
        "outputId": "f7a2d605-7ca8-4a65-8164-edafc1dffaef",
        "colab": {
          "base_uri": "https://localhost:8080/",
          "height": 100
        }
      },
      "source": [
        "fonepay_social_media_names = [\"Facebook\", \"Instagram\", \"Youtube\", \"Twitter\", \"Linkedin\"]\n",
        "\n",
        "for i in range(0,5):\n",
        "  print(\"{} : {}\".format(fonepay_social_media_names[i], fonepay_social_media_links[i]))"
      ],
      "execution_count": 203,
      "outputs": [
        {
          "output_type": "stream",
          "text": [
            "Facebook : https://www.facebook.com/fonepay/\n",
            "Instagram : https://www.instagram.com/fonepaynepal/\n",
            "Youtube : https://www.youtube.com/channel/UCgVAQRwA0UKFUhXPK1xd2bA\n",
            "Twitter : https://twitter.com/fonepay?lang=en\n",
            "Linkedin : https://www.linkedin.com/company/fonepaynepal/\n"
          ],
          "name": "stdout"
        }
      ]
    },
    {
      "cell_type": "code",
      "metadata": {
        "id": "8ZBwMrrDwQ6m",
        "outputId": "a81ac98b-b21e-4268-b01d-53e46295638d",
        "colab": {
          "base_uri": "https://localhost:8080/",
          "height": 187
        }
      },
      "source": [
        "every_links = [links, dwit_social_media_links, leapfrog_social_media_links, fonepay_social_media_links]\n",
        "\n",
        "df = pd.DataFrame(every_links, index=[\"Kharpan\",\"DWIT\", \"Leapfrog\", \"Fonepay\"], columns=[\"Link 1\", \"Link 2\", \"Link 3\", \"Link 4\", \"Link 5\"])\n",
        "df"
      ],
      "execution_count": 210,
      "outputs": [
        {
          "output_type": "execute_result",
          "data": {
            "text/html": [
              "<div>\n",
              "<style scoped>\n",
              "    .dataframe tbody tr th:only-of-type {\n",
              "        vertical-align: middle;\n",
              "    }\n",
              "\n",
              "    .dataframe tbody tr th {\n",
              "        vertical-align: top;\n",
              "    }\n",
              "\n",
              "    .dataframe thead th {\n",
              "        text-align: right;\n",
              "    }\n",
              "</style>\n",
              "<table border=\"1\" class=\"dataframe\">\n",
              "  <thead>\n",
              "    <tr style=\"text-align: right;\">\n",
              "      <th></th>\n",
              "      <th>Link 1</th>\n",
              "      <th>Link 2</th>\n",
              "      <th>Link 3</th>\n",
              "      <th>Link 4</th>\n",
              "      <th>Link 5</th>\n",
              "    </tr>\n",
              "  </thead>\n",
              "  <tbody>\n",
              "    <tr>\n",
              "      <th>Kharpan</th>\n",
              "      <td>https://www.twitter.com/kharpann</td>\n",
              "      <td>https://www.instagram.com/kharpann</td>\n",
              "      <td>https://www.linkedin.com/company/kharpann</td>\n",
              "      <td>https://www.facebook.com/kharpannnepal/</td>\n",
              "      <td>None</td>\n",
              "    </tr>\n",
              "    <tr>\n",
              "      <th>DWIT</th>\n",
              "      <td>https://www.facebook.com/deerwalktrainingcenter/</td>\n",
              "      <td>https://www.linkedin.com/company/deerwalktrain...</td>\n",
              "      <td>https://www.instagram.com/deerwalktrainingcenter/</td>\n",
              "      <td>None</td>\n",
              "      <td>None</td>\n",
              "    </tr>\n",
              "    <tr>\n",
              "      <th>Leapfrog</th>\n",
              "      <td>https://www.facebook.com/lftechnology/</td>\n",
              "      <td>https://twitter.com/lftechnology</td>\n",
              "      <td>https://instagram.com/lftechnology</td>\n",
              "      <td>https://www.linkedin.com/company/lftechnology</td>\n",
              "      <td>None</td>\n",
              "    </tr>\n",
              "    <tr>\n",
              "      <th>Fonepay</th>\n",
              "      <td>https://www.facebook.com/fonepay/</td>\n",
              "      <td>https://www.instagram.com/fonepaynepal/</td>\n",
              "      <td>https://www.youtube.com/channel/UCgVAQRwA0UKFU...</td>\n",
              "      <td>https://twitter.com/fonepay?lang=en</td>\n",
              "      <td>https://www.linkedin.com/company/fonepaynepal/</td>\n",
              "    </tr>\n",
              "  </tbody>\n",
              "</table>\n",
              "</div>"
            ],
            "text/plain": [
              "                                                    Link 1  ...                                          Link 5\n",
              "Kharpan                   https://www.twitter.com/kharpann  ...                                            None\n",
              "DWIT      https://www.facebook.com/deerwalktrainingcenter/  ...                                            None\n",
              "Leapfrog            https://www.facebook.com/lftechnology/  ...                                            None\n",
              "Fonepay                  https://www.facebook.com/fonepay/  ...  https://www.linkedin.com/company/fonepaynepal/\n",
              "\n",
              "[4 rows x 5 columns]"
            ]
          },
          "metadata": {
            "tags": []
          },
          "execution_count": 210
        }
      ]
    },
    {
      "cell_type": "code",
      "metadata": {
        "id": "0-xKQRtxw2hE",
        "outputId": "1058d06c-17dd-486f-c556-c091f0bfdce5",
        "colab": {
          "base_uri": "https://localhost:8080/",
          "height": 167
        }
      },
      "source": [
        "every_names = [link_names, dwit_social_media_names, leapfrog_social_media_names, fonepay_social_media_names]\n",
        "df1 = pd.DataFrame(every_names, index=[\"Kharpan\",\"DWIT\", \"Leapfrog\", \"Fonepay\"], columns=[\"Link 1\", \"Link 2\", \"Link 3\", \"Link 4\", \"Link 5\"])\n",
        "df1.head()"
      ],
      "execution_count": 218,
      "outputs": [
        {
          "output_type": "execute_result",
          "data": {
            "text/html": [
              "<div>\n",
              "<style scoped>\n",
              "    .dataframe tbody tr th:only-of-type {\n",
              "        vertical-align: middle;\n",
              "    }\n",
              "\n",
              "    .dataframe tbody tr th {\n",
              "        vertical-align: top;\n",
              "    }\n",
              "\n",
              "    .dataframe thead th {\n",
              "        text-align: right;\n",
              "    }\n",
              "</style>\n",
              "<table border=\"1\" class=\"dataframe\">\n",
              "  <thead>\n",
              "    <tr style=\"text-align: right;\">\n",
              "      <th></th>\n",
              "      <th>Link 1</th>\n",
              "      <th>Link 2</th>\n",
              "      <th>Link 3</th>\n",
              "      <th>Link 4</th>\n",
              "      <th>Link 5</th>\n",
              "    </tr>\n",
              "  </thead>\n",
              "  <tbody>\n",
              "    <tr>\n",
              "      <th>Kharpan</th>\n",
              "      <td>Twitter</td>\n",
              "      <td>Instagram</td>\n",
              "      <td>Linkedin</td>\n",
              "      <td>Facebook</td>\n",
              "      <td>None</td>\n",
              "    </tr>\n",
              "    <tr>\n",
              "      <th>DWIT</th>\n",
              "      <td>Facebook</td>\n",
              "      <td>Linkedin</td>\n",
              "      <td>Instagram</td>\n",
              "      <td>None</td>\n",
              "      <td>None</td>\n",
              "    </tr>\n",
              "    <tr>\n",
              "      <th>Leapfrog</th>\n",
              "      <td>Facebook</td>\n",
              "      <td>Twitter</td>\n",
              "      <td>Instagram</td>\n",
              "      <td>LinkedIn</td>\n",
              "      <td>None</td>\n",
              "    </tr>\n",
              "    <tr>\n",
              "      <th>Fonepay</th>\n",
              "      <td>Facebook</td>\n",
              "      <td>Instagram</td>\n",
              "      <td>Youtube</td>\n",
              "      <td>Twitter</td>\n",
              "      <td>Linkedin</td>\n",
              "    </tr>\n",
              "  </tbody>\n",
              "</table>\n",
              "</div>"
            ],
            "text/plain": [
              "            Link 1     Link 2     Link 3    Link 4    Link 5\n",
              "Kharpan    Twitter  Instagram   Linkedin  Facebook      None\n",
              "DWIT      Facebook   Linkedin  Instagram      None      None\n",
              "Leapfrog  Facebook    Twitter  Instagram  LinkedIn      None\n",
              "Fonepay   Facebook  Instagram    Youtube   Twitter  Linkedin"
            ]
          },
          "metadata": {
            "tags": []
          },
          "execution_count": 218
        }
      ]
    },
    {
      "cell_type": "code",
      "metadata": {
        "id": "37uzbKTByPX-",
        "outputId": "c1a034e0-73a0-4ce5-9f09-3e2b941d061f",
        "colab": {
          "base_uri": "https://localhost:8080/",
          "height": 307
        }
      },
      "source": [
        "pd.concat([df,df1])"
      ],
      "execution_count": 220,
      "outputs": [
        {
          "output_type": "execute_result",
          "data": {
            "text/html": [
              "<div>\n",
              "<style scoped>\n",
              "    .dataframe tbody tr th:only-of-type {\n",
              "        vertical-align: middle;\n",
              "    }\n",
              "\n",
              "    .dataframe tbody tr th {\n",
              "        vertical-align: top;\n",
              "    }\n",
              "\n",
              "    .dataframe thead th {\n",
              "        text-align: right;\n",
              "    }\n",
              "</style>\n",
              "<table border=\"1\" class=\"dataframe\">\n",
              "  <thead>\n",
              "    <tr style=\"text-align: right;\">\n",
              "      <th></th>\n",
              "      <th>Link 1</th>\n",
              "      <th>Link 2</th>\n",
              "      <th>Link 3</th>\n",
              "      <th>Link 4</th>\n",
              "      <th>Link 5</th>\n",
              "    </tr>\n",
              "  </thead>\n",
              "  <tbody>\n",
              "    <tr>\n",
              "      <th>Kharpan</th>\n",
              "      <td>https://www.twitter.com/kharpann</td>\n",
              "      <td>https://www.instagram.com/kharpann</td>\n",
              "      <td>https://www.linkedin.com/company/kharpann</td>\n",
              "      <td>https://www.facebook.com/kharpannnepal/</td>\n",
              "      <td>None</td>\n",
              "    </tr>\n",
              "    <tr>\n",
              "      <th>DWIT</th>\n",
              "      <td>https://www.facebook.com/deerwalktrainingcenter/</td>\n",
              "      <td>https://www.linkedin.com/company/deerwalktrain...</td>\n",
              "      <td>https://www.instagram.com/deerwalktrainingcenter/</td>\n",
              "      <td>None</td>\n",
              "      <td>None</td>\n",
              "    </tr>\n",
              "    <tr>\n",
              "      <th>Leapfrog</th>\n",
              "      <td>https://www.facebook.com/lftechnology/</td>\n",
              "      <td>https://twitter.com/lftechnology</td>\n",
              "      <td>https://instagram.com/lftechnology</td>\n",
              "      <td>https://www.linkedin.com/company/lftechnology</td>\n",
              "      <td>None</td>\n",
              "    </tr>\n",
              "    <tr>\n",
              "      <th>Fonepay</th>\n",
              "      <td>https://www.facebook.com/fonepay/</td>\n",
              "      <td>https://www.instagram.com/fonepaynepal/</td>\n",
              "      <td>https://www.youtube.com/channel/UCgVAQRwA0UKFU...</td>\n",
              "      <td>https://twitter.com/fonepay?lang=en</td>\n",
              "      <td>https://www.linkedin.com/company/fonepaynepal/</td>\n",
              "    </tr>\n",
              "    <tr>\n",
              "      <th>Kharpan</th>\n",
              "      <td>Twitter</td>\n",
              "      <td>Instagram</td>\n",
              "      <td>Linkedin</td>\n",
              "      <td>Facebook</td>\n",
              "      <td>None</td>\n",
              "    </tr>\n",
              "    <tr>\n",
              "      <th>DWIT</th>\n",
              "      <td>Facebook</td>\n",
              "      <td>Linkedin</td>\n",
              "      <td>Instagram</td>\n",
              "      <td>None</td>\n",
              "      <td>None</td>\n",
              "    </tr>\n",
              "    <tr>\n",
              "      <th>Leapfrog</th>\n",
              "      <td>Facebook</td>\n",
              "      <td>Twitter</td>\n",
              "      <td>Instagram</td>\n",
              "      <td>LinkedIn</td>\n",
              "      <td>None</td>\n",
              "    </tr>\n",
              "    <tr>\n",
              "      <th>Fonepay</th>\n",
              "      <td>Facebook</td>\n",
              "      <td>Instagram</td>\n",
              "      <td>Youtube</td>\n",
              "      <td>Twitter</td>\n",
              "      <td>Linkedin</td>\n",
              "    </tr>\n",
              "  </tbody>\n",
              "</table>\n",
              "</div>"
            ],
            "text/plain": [
              "                                                    Link 1  ...                                          Link 5\n",
              "Kharpan                   https://www.twitter.com/kharpann  ...                                            None\n",
              "DWIT      https://www.facebook.com/deerwalktrainingcenter/  ...                                            None\n",
              "Leapfrog            https://www.facebook.com/lftechnology/  ...                                            None\n",
              "Fonepay                  https://www.facebook.com/fonepay/  ...  https://www.linkedin.com/company/fonepaynepal/\n",
              "Kharpan                                            Twitter  ...                                            None\n",
              "DWIT                                              Facebook  ...                                            None\n",
              "Leapfrog                                          Facebook  ...                                            None\n",
              "Fonepay                                           Facebook  ...                                        Linkedin\n",
              "\n",
              "[8 rows x 5 columns]"
            ]
          },
          "metadata": {
            "tags": []
          },
          "execution_count": 220
        }
      ]
    },
    {
      "cell_type": "code",
      "metadata": {
        "id": "LJyzUNJIyocD"
      },
      "source": [
        ""
      ],
      "execution_count": null,
      "outputs": []
    }
  ]
}