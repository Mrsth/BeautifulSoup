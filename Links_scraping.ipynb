{
  "nbformat": 4,
  "nbformat_minor": 0,
  "metadata": {
    "colab": {
      "name": "Links_scraping.ipynb",
      "provenance": [],
      "authorship_tag": "ABX9TyPcqlbmOFY0gMHYqYLtGdAQ",
      "include_colab_link": true
    },
    "kernelspec": {
      "name": "python3",
      "display_name": "Python 3"
    }
  },
  "cells": [
    {
      "cell_type": "markdown",
      "metadata": {
        "id": "view-in-github",
        "colab_type": "text"
      },
      "source": [
        "<a href=\"https://colab.research.google.com/github/Mrsth/BeautifulSoup/blob/main/Links_scraping.ipynb\" target=\"_parent\"><img src=\"https://colab.research.google.com/assets/colab-badge.svg\" alt=\"Open In Colab\"/></a>"
      ]
    },
    {
      "cell_type": "code",
      "metadata": {
        "id": "qZyyhTb-P2L3"
      },
      "source": [
        "import pandas as pd\n",
        "import matplotlib.pyplot as plt\n",
        "import numpy as np\n",
        "from bs4 import BeautifulSoup as bs\n",
        "import requests"
      ],
      "execution_count": 6,
      "outputs": []
    },
    {
      "cell_type": "code",
      "metadata": {
        "id": "WbORlaVURMYa"
      },
      "source": [
        "my_url = \"https://keithgalli.github.io/web-scraping/webpage.html\""
      ],
      "execution_count": 55,
      "outputs": []
    },
    {
      "cell_type": "code",
      "metadata": {
        "id": "0W8oVW0xjhyu"
      },
      "source": [
        "page_load = requests.get(my_url)\n",
        "soup = bs(page_load.content)"
      ],
      "execution_count": 56,
      "outputs": []
    },
    {
      "cell_type": "markdown",
      "metadata": {
        "id": "oHydS125n8cF"
      },
      "source": [
        "# **Links for all social media**"
      ]
    },
    {
      "cell_type": "code",
      "metadata": {
        "id": "lhZ6OdsrkQWF",
        "outputId": "1d6d1094-68c2-471f-ecff-0f431bda3520",
        "colab": {
          "base_uri": "https://localhost:8080/",
          "height": 83
        }
      },
      "source": [
        "all_social_media_links = soup.select(\"ul.socials a\")\n",
        "all_social_media_links"
      ],
      "execution_count": 71,
      "outputs": [
        {
          "output_type": "execute_result",
          "data": {
            "text/plain": [
              "[<a href=\"https://www.instagram.com/keithgalli/\">https://www.instagram.com/keithgalli/</a>,\n",
              " <a href=\"https://twitter.com/keithgalli\">https://twitter.com/keithgalli</a>,\n",
              " <a href=\"https://www.linkedin.com/in/keithgalli/\">https://www.linkedin.com/in/keithgalli/</a>,\n",
              " <a href=\"https://www.tiktok.com/@keithgalli\">https://www.tiktok.com/@keithgalli</a>]"
            ]
          },
          "metadata": {
            "tags": []
          },
          "execution_count": 71
        }
      ]
    },
    {
      "cell_type": "code",
      "metadata": {
        "id": "5-OVBC33mcxr",
        "outputId": "0114382c-9261-4e3c-cfd1-8d1eb019cefe",
        "colab": {
          "base_uri": "https://localhost:8080/",
          "height": 83
        }
      },
      "source": [
        "links = [link.string for link in all_social_media_links]\n",
        "links"
      ],
      "execution_count": 73,
      "outputs": [
        {
          "output_type": "execute_result",
          "data": {
            "text/plain": [
              "['https://www.instagram.com/keithgalli/',\n",
              " 'https://twitter.com/keithgalli',\n",
              " 'https://www.linkedin.com/in/keithgalli/',\n",
              " 'https://www.tiktok.com/@keithgalli']"
            ]
          },
          "metadata": {
            "tags": []
          },
          "execution_count": 73
        }
      ]
    },
    {
      "cell_type": "markdown",
      "metadata": {
        "id": "1qGN422PodoN"
      },
      "source": [
        "# **Miscellaneous Links**"
      ]
    },
    {
      "cell_type": "code",
      "metadata": {
        "id": "E27r87v0nXO1",
        "outputId": "dfd18458-d65d-416b-e4ee-4d788f1adb9d",
        "colab": {
          "base_uri": "https://localhost:8080/",
          "height": 233
        }
      },
      "source": [
        "table_links = soup.select(\"tbody a\")\n",
        "table_links"
      ],
      "execution_count": 76,
      "outputs": [
        {
          "output_type": "execute_result",
          "data": {
            "text/plain": [
              "[<a href=\"https://www.eliteprospects.com/team/10263/mit-mass.-inst.-of-tech./2014-2015?tab=stats\"> MIT (Mass. Inst. of Tech.) </a>,\n",
              " <a href=\"https://www.eliteprospects.com/league/acha-ii/stats/2014-2015\"> ACHA II </a>,\n",
              " <a href=\"https://www.eliteprospects.com/league/acha-ii/stats/2014-2015\"> </a>,\n",
              " <a href=\"https://www.eliteprospects.com/team/10263/mit-mass.-inst.-of-tech./2015-2016?tab=stats\"> MIT (Mass. Inst. of Tech.) </a>,\n",
              " <a href=\"https://www.eliteprospects.com/league/acha-ii/stats/2015-2016\"> ACHA II </a>,\n",
              " <a href=\"https://www.eliteprospects.com/league/acha-ii/stats/2015-2016\"> </a>,\n",
              " <a href=\"https://www.eliteprospects.com/team/10263/mit-mass.-inst.-of-tech./2016-2017?tab=stats\"> MIT (Mass. Inst. of Tech.) </a>,\n",
              " <a href=\"https://www.eliteprospects.com/league/acha-ii/stats/2016-2017\"> ACHA II </a>,\n",
              " <a href=\"https://www.eliteprospects.com/stats\"> </a>,\n",
              " <a href=\"https://www.eliteprospects.com/stats\"> </a>,\n",
              " <a href=\"https://www.eliteprospects.com/team/10263/mit-mass.-inst.-of-tech./2018-2019?tab=stats\"> MIT (Mass. Inst. of Tech.) </a>,\n",
              " <a href=\"https://www.eliteprospects.com/league/acha-iii/stats/2018-2019\"> ACHA III </a>,\n",
              " <a href=\"https://www.eliteprospects.com/league/acha-iii/stats/2018-2019\"> </a>]"
            ]
          },
          "metadata": {
            "tags": []
          },
          "execution_count": 76
        }
      ]
    },
    {
      "cell_type": "code",
      "metadata": {
        "id": "E5U-Zo6wox1G",
        "outputId": "5f3372a6-40be-4af3-db31-1fcd618dcb15",
        "colab": {
          "base_uri": "https://localhost:8080/",
          "height": 35
        }
      },
      "source": [
        "soup.select(\"tbody a\")[0][\"href\"]"
      ],
      "execution_count": 81,
      "outputs": [
        {
          "output_type": "execute_result",
          "data": {
            "application/vnd.google.colaboratory.intrinsic+json": {
              "type": "string"
            },
            "text/plain": [
              "'https://www.eliteprospects.com/team/10263/mit-mass.-inst.-of-tech./2014-2015?tab=stats'"
            ]
          },
          "metadata": {
            "tags": []
          },
          "execution_count": 81
        }
      ]
    },
    {
      "cell_type": "code",
      "metadata": {
        "id": "wnIL2l-mpxq5",
        "outputId": "84fa9811-3afb-43c0-9a17-1f5c7802bd19",
        "colab": {
          "base_uri": "https://localhost:8080/",
          "height": 233
        }
      },
      "source": [
        "table_links = []\n",
        "\n",
        "for link in soup.select(\"tbody a\"):\n",
        "  table_links.append(link[\"href\"])\n",
        "table_links  "
      ],
      "execution_count": 87,
      "outputs": [
        {
          "output_type": "execute_result",
          "data": {
            "text/plain": [
              "['https://www.eliteprospects.com/team/10263/mit-mass.-inst.-of-tech./2014-2015?tab=stats',\n",
              " 'https://www.eliteprospects.com/league/acha-ii/stats/2014-2015',\n",
              " 'https://www.eliteprospects.com/league/acha-ii/stats/2014-2015',\n",
              " 'https://www.eliteprospects.com/team/10263/mit-mass.-inst.-of-tech./2015-2016?tab=stats',\n",
              " 'https://www.eliteprospects.com/league/acha-ii/stats/2015-2016',\n",
              " 'https://www.eliteprospects.com/league/acha-ii/stats/2015-2016',\n",
              " 'https://www.eliteprospects.com/team/10263/mit-mass.-inst.-of-tech./2016-2017?tab=stats',\n",
              " 'https://www.eliteprospects.com/league/acha-ii/stats/2016-2017',\n",
              " 'https://www.eliteprospects.com/stats',\n",
              " 'https://www.eliteprospects.com/stats',\n",
              " 'https://www.eliteprospects.com/team/10263/mit-mass.-inst.-of-tech./2018-2019?tab=stats',\n",
              " 'https://www.eliteprospects.com/league/acha-iii/stats/2018-2019',\n",
              " 'https://www.eliteprospects.com/league/acha-iii/stats/2018-2019']"
            ]
          },
          "metadata": {
            "tags": []
          },
          "execution_count": 87
        }
      ]
    },
    {
      "cell_type": "code",
      "metadata": {
        "id": "xYCS4_iSrGdA",
        "outputId": "f0b617fb-af29-4a4c-db5b-f35f9a0b1196",
        "colab": {
          "base_uri": "https://localhost:8080/",
          "height": 437
        }
      },
      "source": [
        "df = pd.DataFrame(table_links, columns=[\"Links\"])\n",
        "df"
      ],
      "execution_count": 88,
      "outputs": [
        {
          "output_type": "execute_result",
          "data": {
            "text/html": [
              "<div>\n",
              "<style scoped>\n",
              "    .dataframe tbody tr th:only-of-type {\n",
              "        vertical-align: middle;\n",
              "    }\n",
              "\n",
              "    .dataframe tbody tr th {\n",
              "        vertical-align: top;\n",
              "    }\n",
              "\n",
              "    .dataframe thead th {\n",
              "        text-align: right;\n",
              "    }\n",
              "</style>\n",
              "<table border=\"1\" class=\"dataframe\">\n",
              "  <thead>\n",
              "    <tr style=\"text-align: right;\">\n",
              "      <th></th>\n",
              "      <th>Links</th>\n",
              "    </tr>\n",
              "  </thead>\n",
              "  <tbody>\n",
              "    <tr>\n",
              "      <th>0</th>\n",
              "      <td>https://www.eliteprospects.com/team/10263/mit-...</td>\n",
              "    </tr>\n",
              "    <tr>\n",
              "      <th>1</th>\n",
              "      <td>https://www.eliteprospects.com/league/acha-ii/...</td>\n",
              "    </tr>\n",
              "    <tr>\n",
              "      <th>2</th>\n",
              "      <td>https://www.eliteprospects.com/league/acha-ii/...</td>\n",
              "    </tr>\n",
              "    <tr>\n",
              "      <th>3</th>\n",
              "      <td>https://www.eliteprospects.com/team/10263/mit-...</td>\n",
              "    </tr>\n",
              "    <tr>\n",
              "      <th>4</th>\n",
              "      <td>https://www.eliteprospects.com/league/acha-ii/...</td>\n",
              "    </tr>\n",
              "    <tr>\n",
              "      <th>5</th>\n",
              "      <td>https://www.eliteprospects.com/league/acha-ii/...</td>\n",
              "    </tr>\n",
              "    <tr>\n",
              "      <th>6</th>\n",
              "      <td>https://www.eliteprospects.com/team/10263/mit-...</td>\n",
              "    </tr>\n",
              "    <tr>\n",
              "      <th>7</th>\n",
              "      <td>https://www.eliteprospects.com/league/acha-ii/...</td>\n",
              "    </tr>\n",
              "    <tr>\n",
              "      <th>8</th>\n",
              "      <td>https://www.eliteprospects.com/stats</td>\n",
              "    </tr>\n",
              "    <tr>\n",
              "      <th>9</th>\n",
              "      <td>https://www.eliteprospects.com/stats</td>\n",
              "    </tr>\n",
              "    <tr>\n",
              "      <th>10</th>\n",
              "      <td>https://www.eliteprospects.com/team/10263/mit-...</td>\n",
              "    </tr>\n",
              "    <tr>\n",
              "      <th>11</th>\n",
              "      <td>https://www.eliteprospects.com/league/acha-iii...</td>\n",
              "    </tr>\n",
              "    <tr>\n",
              "      <th>12</th>\n",
              "      <td>https://www.eliteprospects.com/league/acha-iii...</td>\n",
              "    </tr>\n",
              "  </tbody>\n",
              "</table>\n",
              "</div>"
            ],
            "text/plain": [
              "                                                Links\n",
              "0   https://www.eliteprospects.com/team/10263/mit-...\n",
              "1   https://www.eliteprospects.com/league/acha-ii/...\n",
              "2   https://www.eliteprospects.com/league/acha-ii/...\n",
              "3   https://www.eliteprospects.com/team/10263/mit-...\n",
              "4   https://www.eliteprospects.com/league/acha-ii/...\n",
              "5   https://www.eliteprospects.com/league/acha-ii/...\n",
              "6   https://www.eliteprospects.com/team/10263/mit-...\n",
              "7   https://www.eliteprospects.com/league/acha-ii/...\n",
              "8                https://www.eliteprospects.com/stats\n",
              "9                https://www.eliteprospects.com/stats\n",
              "10  https://www.eliteprospects.com/team/10263/mit-...\n",
              "11  https://www.eliteprospects.com/league/acha-iii...\n",
              "12  https://www.eliteprospects.com/league/acha-iii..."
            ]
          },
          "metadata": {
            "tags": []
          },
          "execution_count": 88
        }
      ]
    },
    {
      "cell_type": "code",
      "metadata": {
        "id": "gq1-L2H3FPjC"
      },
      "source": [
        ""
      ],
      "execution_count": null,
      "outputs": []
    }
  ]
}